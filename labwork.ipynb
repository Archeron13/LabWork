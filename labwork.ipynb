{
  "cells": [
    {
      "cell_type": "markdown",
      "metadata": {
        "lang": "en",
        "id": "xR4ZAN7EcAo-"
      },
      "source": [
        "# Data analytics with `pandas` and `matplotlib`"
      ]
    },
    {
      "cell_type": "markdown",
      "metadata": {
        "lang": "en",
        "id": "9hn2E4mFcApA"
      },
      "source": [
        "In this task, you are asked to analyze cryptocurrency data using the pandas and matplotlib libraries.\n",
        "The task looks like a laboratory work in which you have to fill in the missing cells and answer a series of questions.\n",
        " - [Official pandas documentation](https://pandas.pydata.org/)\n",
        " - [Official matplotlib documentation](https://matplotlib.org/index.html)"
      ]
    },
    {
      "cell_type": "markdown",
      "metadata": {
        "lang": "en",
        "id": "IML8ndshcApC"
      },
      "source": [
        "> **Reminder**\n",
        ">\n",
        ">Minimum points for crediting this work - **1 point**. If you do not score here 1 point, then you get a failure throughout the course (see slides from the introductory presentation)."
      ]
    },
    {
      "cell_type": "markdown",
      "metadata": {
        "lang": "en",
        "id": "RG3eeFQVcApD"
      },
      "source": [
        "## 1. Data (2 points)"
      ]
    },
    {
      "cell_type": "markdown",
      "metadata": {
        "lang": "en",
        "id": "Yy2BglG9cApE"
      },
      "source": [
        "Downloading data for work:"
      ]
    },
    {
      "cell_type": "code",
      "execution_count": 4,
      "metadata": {
        "id": "bzRxn9yrMq79",
        "colab": {
          "base_uri": "https://localhost:8080/"
        },
        "outputId": "db70d4a1-a34e-465c-aa71-5ebe05c3a5a0"
      },
      "outputs": [
        {
          "output_type": "stream",
          "name": "stderr",
          "text": [
            "Downloading...\n",
            "From: https://drive.google.com/uc?id=1e-Q_15W7ExExQarKqgjrtoO-LHi9oJs3\n",
            "To: /content/coins.csv\n",
            "\r  0%|          | 0.00/3.98M [00:00<?, ?B/s]\r100%|██████████| 3.98M/3.98M [00:00<00:00, 128MB/s]\n"
          ]
        }
      ],
      "source": [
        "%%bash\n",
        "gdown 1e-Q_15W7ExExQarKqgjrtoO-LHi9oJs3"
      ]
    },
    {
      "cell_type": "markdown",
      "metadata": {
        "lang": "en",
        "id": "BIj9x3tHcApG"
      },
      "source": [
        "Let's start with the necessary preparations."
      ]
    },
    {
      "cell_type": "code",
      "execution_count": 5,
      "metadata": {
        "id": "-G3lHlpmL07T"
      },
      "outputs": [],
      "source": [
        "import numpy as np\n",
        "import pandas as pd\n",
        "import matplotlib as mpl \n",
        "import matplotlib.pyplot as plt\n",
        "import ipywidgets  # Библиотека для интерактивных контролов в jupyter notebook'е\n",
        "!!pip install mpl_finance\n",
        "\n",
        "%matplotlib inline"
      ]
    },
    {
      "cell_type": "markdown",
      "metadata": {
        "lang": "en",
        "id": "MBRZPtyNcApI"
      },
      "source": [
        "#### Load a pre-prepared dataset from *\"coins.csv\"* file. Create an object of type `pandas.DataFrame` named `coins` and select the date column as the index."
      ]
    },
    {
      "cell_type": "code",
      "execution_count": 6,
      "metadata": {
        "id": "3a-dnCG0L07Z"
      },
      "outputs": [],
      "source": [
        "# Paste your code here.\n",
        "coins = pd.read_csv('coins.csv',index_col = \"date\")\n"
      ]
    },
    {
      "cell_type": "markdown",
      "metadata": {
        "lang": "en",
        "id": "vkLI4ISmcApK"
      },
      "source": [
        "Let's see what happened"
      ]
    },
    {
      "cell_type": "code",
      "execution_count": 7,
      "metadata": {
        "id": "l4uGAbw2L07e",
        "outputId": "355aa02b-aaed-4ea0-f04c-d4e59e4bcbf2",
        "colab": {
          "base_uri": "https://localhost:8080/",
          "height": 206
        }
      },
      "outputs": [
        {
          "output_type": "execute_result",
          "data": {
            "text/plain": [
              "             price  txCount      txVolume  activeAddresses symbol      name  \\\n",
              "date                                                                          \n",
              "2013-04-28  135.30  41702.0  6.879868e+07         117984.0    BTC   Bitcoin   \n",
              "2013-04-28    4.30   9174.0  4.431952e+07          17216.0    LTC  Litecoin   \n",
              "2013-04-29  134.44  51602.0  1.138128e+08          86925.0    BTC   Bitcoin   \n",
              "2013-04-29    4.37   9275.0  3.647810e+07          18395.0    LTC  Litecoin   \n",
              "\n",
              "              open    high     low   close  volume        market  \n",
              "date                                                              \n",
              "2013-04-28  135.30  135.98  132.10  134.21     0.0  1.500520e+09  \n",
              "2013-04-28    4.30    4.40    4.18    4.35     0.0  7.377340e+07  \n",
              "2013-04-29  134.44  147.49  134.00  144.54     0.0  1.491160e+09  \n",
              "2013-04-29    4.37    4.57    4.23    4.38     0.0  7.495270e+07  "
            ],
            "text/html": [
              "\n",
              "  <div id=\"df-8d8726f0-64c2-47a0-b285-b25fa21eccb1\">\n",
              "    <div class=\"colab-df-container\">\n",
              "      <div>\n",
              "<style scoped>\n",
              "    .dataframe tbody tr th:only-of-type {\n",
              "        vertical-align: middle;\n",
              "    }\n",
              "\n",
              "    .dataframe tbody tr th {\n",
              "        vertical-align: top;\n",
              "    }\n",
              "\n",
              "    .dataframe thead th {\n",
              "        text-align: right;\n",
              "    }\n",
              "</style>\n",
              "<table border=\"1\" class=\"dataframe\">\n",
              "  <thead>\n",
              "    <tr style=\"text-align: right;\">\n",
              "      <th></th>\n",
              "      <th>price</th>\n",
              "      <th>txCount</th>\n",
              "      <th>txVolume</th>\n",
              "      <th>activeAddresses</th>\n",
              "      <th>symbol</th>\n",
              "      <th>name</th>\n",
              "      <th>open</th>\n",
              "      <th>high</th>\n",
              "      <th>low</th>\n",
              "      <th>close</th>\n",
              "      <th>volume</th>\n",
              "      <th>market</th>\n",
              "    </tr>\n",
              "    <tr>\n",
              "      <th>date</th>\n",
              "      <th></th>\n",
              "      <th></th>\n",
              "      <th></th>\n",
              "      <th></th>\n",
              "      <th></th>\n",
              "      <th></th>\n",
              "      <th></th>\n",
              "      <th></th>\n",
              "      <th></th>\n",
              "      <th></th>\n",
              "      <th></th>\n",
              "      <th></th>\n",
              "    </tr>\n",
              "  </thead>\n",
              "  <tbody>\n",
              "    <tr>\n",
              "      <th>2013-04-28</th>\n",
              "      <td>135.30</td>\n",
              "      <td>41702.0</td>\n",
              "      <td>6.879868e+07</td>\n",
              "      <td>117984.0</td>\n",
              "      <td>BTC</td>\n",
              "      <td>Bitcoin</td>\n",
              "      <td>135.30</td>\n",
              "      <td>135.98</td>\n",
              "      <td>132.10</td>\n",
              "      <td>134.21</td>\n",
              "      <td>0.0</td>\n",
              "      <td>1.500520e+09</td>\n",
              "    </tr>\n",
              "    <tr>\n",
              "      <th>2013-04-28</th>\n",
              "      <td>4.30</td>\n",
              "      <td>9174.0</td>\n",
              "      <td>4.431952e+07</td>\n",
              "      <td>17216.0</td>\n",
              "      <td>LTC</td>\n",
              "      <td>Litecoin</td>\n",
              "      <td>4.30</td>\n",
              "      <td>4.40</td>\n",
              "      <td>4.18</td>\n",
              "      <td>4.35</td>\n",
              "      <td>0.0</td>\n",
              "      <td>7.377340e+07</td>\n",
              "    </tr>\n",
              "    <tr>\n",
              "      <th>2013-04-29</th>\n",
              "      <td>134.44</td>\n",
              "      <td>51602.0</td>\n",
              "      <td>1.138128e+08</td>\n",
              "      <td>86925.0</td>\n",
              "      <td>BTC</td>\n",
              "      <td>Bitcoin</td>\n",
              "      <td>134.44</td>\n",
              "      <td>147.49</td>\n",
              "      <td>134.00</td>\n",
              "      <td>144.54</td>\n",
              "      <td>0.0</td>\n",
              "      <td>1.491160e+09</td>\n",
              "    </tr>\n",
              "    <tr>\n",
              "      <th>2013-04-29</th>\n",
              "      <td>4.37</td>\n",
              "      <td>9275.0</td>\n",
              "      <td>3.647810e+07</td>\n",
              "      <td>18395.0</td>\n",
              "      <td>LTC</td>\n",
              "      <td>Litecoin</td>\n",
              "      <td>4.37</td>\n",
              "      <td>4.57</td>\n",
              "      <td>4.23</td>\n",
              "      <td>4.38</td>\n",
              "      <td>0.0</td>\n",
              "      <td>7.495270e+07</td>\n",
              "    </tr>\n",
              "  </tbody>\n",
              "</table>\n",
              "</div>\n",
              "      <button class=\"colab-df-convert\" onclick=\"convertToInteractive('df-8d8726f0-64c2-47a0-b285-b25fa21eccb1')\"\n",
              "              title=\"Convert this dataframe to an interactive table.\"\n",
              "              style=\"display:none;\">\n",
              "        \n",
              "  <svg xmlns=\"http://www.w3.org/2000/svg\" height=\"24px\"viewBox=\"0 0 24 24\"\n",
              "       width=\"24px\">\n",
              "    <path d=\"M0 0h24v24H0V0z\" fill=\"none\"/>\n",
              "    <path d=\"M18.56 5.44l.94 2.06.94-2.06 2.06-.94-2.06-.94-.94-2.06-.94 2.06-2.06.94zm-11 1L8.5 8.5l.94-2.06 2.06-.94-2.06-.94L8.5 2.5l-.94 2.06-2.06.94zm10 10l.94 2.06.94-2.06 2.06-.94-2.06-.94-.94-2.06-.94 2.06-2.06.94z\"/><path d=\"M17.41 7.96l-1.37-1.37c-.4-.4-.92-.59-1.43-.59-.52 0-1.04.2-1.43.59L10.3 9.45l-7.72 7.72c-.78.78-.78 2.05 0 2.83L4 21.41c.39.39.9.59 1.41.59.51 0 1.02-.2 1.41-.59l7.78-7.78 2.81-2.81c.8-.78.8-2.07 0-2.86zM5.41 20L4 18.59l7.72-7.72 1.47 1.35L5.41 20z\"/>\n",
              "  </svg>\n",
              "      </button>\n",
              "      \n",
              "  <style>\n",
              "    .colab-df-container {\n",
              "      display:flex;\n",
              "      flex-wrap:wrap;\n",
              "      gap: 12px;\n",
              "    }\n",
              "\n",
              "    .colab-df-convert {\n",
              "      background-color: #E8F0FE;\n",
              "      border: none;\n",
              "      border-radius: 50%;\n",
              "      cursor: pointer;\n",
              "      display: none;\n",
              "      fill: #1967D2;\n",
              "      height: 32px;\n",
              "      padding: 0 0 0 0;\n",
              "      width: 32px;\n",
              "    }\n",
              "\n",
              "    .colab-df-convert:hover {\n",
              "      background-color: #E2EBFA;\n",
              "      box-shadow: 0px 1px 2px rgba(60, 64, 67, 0.3), 0px 1px 3px 1px rgba(60, 64, 67, 0.15);\n",
              "      fill: #174EA6;\n",
              "    }\n",
              "\n",
              "    [theme=dark] .colab-df-convert {\n",
              "      background-color: #3B4455;\n",
              "      fill: #D2E3FC;\n",
              "    }\n",
              "\n",
              "    [theme=dark] .colab-df-convert:hover {\n",
              "      background-color: #434B5C;\n",
              "      box-shadow: 0px 1px 3px 1px rgba(0, 0, 0, 0.15);\n",
              "      filter: drop-shadow(0px 1px 2px rgba(0, 0, 0, 0.3));\n",
              "      fill: #FFFFFF;\n",
              "    }\n",
              "  </style>\n",
              "\n",
              "      <script>\n",
              "        const buttonEl =\n",
              "          document.querySelector('#df-8d8726f0-64c2-47a0-b285-b25fa21eccb1 button.colab-df-convert');\n",
              "        buttonEl.style.display =\n",
              "          google.colab.kernel.accessAllowed ? 'block' : 'none';\n",
              "\n",
              "        async function convertToInteractive(key) {\n",
              "          const element = document.querySelector('#df-8d8726f0-64c2-47a0-b285-b25fa21eccb1');\n",
              "          const dataTable =\n",
              "            await google.colab.kernel.invokeFunction('convertToInteractive',\n",
              "                                                     [key], {});\n",
              "          if (!dataTable) return;\n",
              "\n",
              "          const docLinkHtml = 'Like what you see? Visit the ' +\n",
              "            '<a target=\"_blank\" href=https://colab.research.google.com/notebooks/data_table.ipynb>data table notebook</a>'\n",
              "            + ' to learn more about interactive tables.';\n",
              "          element.innerHTML = '';\n",
              "          dataTable['output_type'] = 'display_data';\n",
              "          await google.colab.output.renderOutput(dataTable, element);\n",
              "          const docLink = document.createElement('div');\n",
              "          docLink.innerHTML = docLinkHtml;\n",
              "          element.appendChild(docLink);\n",
              "        }\n",
              "      </script>\n",
              "    </div>\n",
              "  </div>\n",
              "  "
            ]
          },
          "metadata": {},
          "execution_count": 7
        }
      ],
      "source": [
        "coins.head(4)"
      ]
    },
    {
      "cell_type": "markdown",
      "metadata": {
        "lang": "en",
        "id": "QKr7k8WgcApL"
      },
      "source": [
        "Let's explain the values ​​stored in the columns\n",
        " - date - measurement date\n",
        " - name - full name of the coin\n",
        " - symbol - abbreviated name of the coin\n",
        " - price - average coin price per trading day in USD\n",
        " - txCount - the number of transactions in the network of this coin\n",
        " - txVolume - the volume of coins transferred between addresses in the network of this coin\n",
        " - activeAddresses - the number of addresses that made transactions on this day in the network of this coin\n",
        " - open - the price of the coin at the beginning of trading on the given day\n",
        " - close - the price of the coin at the end of the trading day\n",
        " - high - the highest price of this coin during the current trading day\n",
        " - low - the lowest price of the given coin during the given trading day\n",
        " - volume - trading volume of this coin on exchanges on a given day\n",
        " - market - capitalization of this coin on a given day"
      ]
    },
    {
      "cell_type": "markdown",
      "metadata": {
        "lang": "en",
        "id": "2R3jsXjacApL"
      },
      "source": [
        "Let's examine the data. Answer the following questions (insert cells with code and text below):"
      ]
    },
    {
      "cell_type": "markdown",
      "metadata": {
        "lang": "en",
        "id": "SDY9YPZicApM"
      },
      "source": [
        "### 1. How many different coins are there in the dataset? (0.4 points)"
      ]
    },
    {
      "cell_type": "code",
      "execution_count": 8,
      "metadata": {
        "id": "oN2d3V71L07m",
        "colab": {
          "base_uri": "https://localhost:8080/"
        },
        "outputId": "2fe548a8-42ca-44ca-ba5d-38497b69d638"
      },
      "outputs": [
        {
          "output_type": "execute_result",
          "data": {
            "text/plain": [
              "66"
            ]
          },
          "metadata": {},
          "execution_count": 8
        }
      ],
      "source": [
        "coins['symbol'].nunique()\n",
        "# 66"
      ]
    },
    {
      "cell_type": "markdown",
      "metadata": {
        "lang": "en",
        "id": "0H0g_6P5cApN"
      },
      "source": [
        "### 2. For what period do we have data? (0.4 points)"
      ]
    },
    {
      "cell_type": "code",
      "execution_count": 9,
      "metadata": {
        "id": "7Ucmnjv1L07p",
        "colab": {
          "base_uri": "https://localhost:8080/"
        },
        "outputId": "b4236257-eebc-46a3-84fb-38fbc8b2caaf"
      },
      "outputs": [
        {
          "output_type": "stream",
          "name": "stdout",
          "text": [
            "Time Period is from 2013-04-28 to 2018-06-06\n"
          ]
        }
      ],
      "source": [
        "print(\"Time Period is from\",coins.index.min(),\"to\",coins.index.max())\n"
      ]
    },
    {
      "cell_type": "markdown",
      "metadata": {
        "lang": "en",
        "id": "AY_OD176cApO"
      },
      "source": [
        "### 3. Are there gaps in the data? What is the nature of these omissions, what are they most likely caused by? (0.5 points)"
      ]
    },
    {
      "cell_type": "code",
      "execution_count": 10,
      "metadata": {
        "id": "D-nOmmFjL07r",
        "colab": {
          "base_uri": "https://localhost:8080/"
        },
        "outputId": "c2a50f94-a029-4c84-cd2b-9b0914e1b716"
      },
      "outputs": [
        {
          "output_type": "stream",
          "name": "stdout",
          "text": [
            "5197\n"
          ]
        }
      ],
      "source": [
        "print(coins.isnull().sum().sum())\n",
        "#They are most likely caused by missing date "
      ]
    },
    {
      "cell_type": "markdown",
      "metadata": {
        "lang": "en",
        "id": "Boq831r-cApO"
      },
      "source": [
        "### 4. Which coin had the highest price and when? (0.2 points)"
      ]
    },
    {
      "cell_type": "code",
      "execution_count": 11,
      "metadata": {
        "id": "-D50115vL07t",
        "colab": {
          "base_uri": "https://localhost:8080/"
        },
        "outputId": "0c18edef-a36b-4f9f-a8dc-0da44ddb013d"
      },
      "outputs": [
        {
          "output_type": "execute_result",
          "data": {
            "text/plain": [
              "date\n",
              "2017-12-17    Bitcoin\n",
              "Name: name, dtype: object"
            ]
          },
          "metadata": {},
          "execution_count": 11
        }
      ],
      "source": [
        "coins[coins[\"price\"] == coins[\"price\"].max()][\"name\"]"
      ]
    },
    {
      "cell_type": "markdown",
      "metadata": {
        "lang": "en",
        "id": "aCYsKq3ZcApO"
      },
      "source": [
        "### 5. Which coin has the highest and lowest total capitalization? Build a pie chart with proportions. (0.5 points)"
      ]
    },
    {
      "cell_type": "code",
      "execution_count": 12,
      "metadata": {
        "id": "VeoJsuP6L07v",
        "colab": {
          "base_uri": "https://localhost:8080/"
        },
        "outputId": "7b99075b-daab-42c0-9176-51e1a48736f4"
      },
      "outputs": [
        {
          "output_type": "stream",
          "name": "stdout",
          "text": [
            "The highest capitalization\n",
            "date\n",
            "2017-12-17    Bitcoin\n",
            "Name: name, dtype: object\n",
            "The lowest capitalization\n",
            "date\n",
            "2015-08-07      Ethereum\n",
            "2015-10-27         Augur\n",
            "2015-10-28         Augur\n",
            "2015-10-29         Augur\n",
            "2015-10-30         Augur\n",
            "                 ...    \n",
            "2018-04-05    Centrality\n",
            "2018-04-16        Cortex\n",
            "2018-04-17        Cortex\n",
            "2018-04-18        Cortex\n",
            "2018-04-19        Cortex\n",
            "Name: name, Length: 976, dtype: object\n"
          ]
        }
      ],
      "source": [
        "print(\"The highest capitalization\")\n",
        "a = coins[coins[\"market\"] == coins[\"market\"].max()][\"name\"]\n",
        "print(a)\n",
        "print(\"The lowest capitalization\")\n",
        "b = coins[coins[\"market\"] == coins[\"market\"].min()][\"name\"]\n",
        "print(b)\n",
        "\n"
      ]
    },
    {
      "cell_type": "markdown",
      "metadata": {
        "lang": "en",
        "id": "vlp4iwERcApP"
      },
      "source": [
        "## 2. Visualization (1 point)"
      ]
    },
    {
      "cell_type": "markdown",
      "metadata": {
        "lang": "en",
        "id": "phscdVBlcApP"
      },
      "source": [
        "The most interesting part of the analyst's job is to carefully look at correctly chosen and constructed charts."
      ]
    },
    {
      "cell_type": "markdown",
      "metadata": {
        "lang": "en",
        "id": "Fu52NQYhcApP"
      },
      "source": [
        "**Implement a function to visualize the prices of the selected currency for the selected date range.**"
      ]
    },
    {
      "cell_type": "markdown",
      "metadata": {
        "lang": "en",
        "id": "ejTwzg9zcApP"
      },
      "source": [
        "\\\\\\The chart should show the start and end prices of sales. As well as the minimum and maximum price for that day.\n",
        "Label the graph and coordinate axes. Add a grid. Increase the image size.\n",
        "You can try using `matplotlib.finance.candlestick_ohlc` (`mpl_finance.candlestick_ohlc`), but you can do without it."
      ]
    },
    {
      "cell_type": "code",
      "execution_count": 26,
      "metadata": {
        "id": "mR_RvLetL07y",
        "scrolled": false
      },
      "outputs": [],
      "source": [
        "import mpl_finance\n",
        "def plot_fancy_price_action(coins, symbol, start_date, end_date):\n",
        "          df = (coins.loc[(coins[\"symbol\"] == symbol) &  ( (coins.index >= start_date) &\n",
        "        (coins.index <= end_date) ),[\"open\",\"high\",\"low\",\"close\"]] )\n",
        "          plt.rcParams['figure.figsize'] = [50, 20]\n",
        "          plt.rcParams['figure.dpi'] = 100\n",
        "          df = df.reset_index()\n",
        "          print(df)\n",
        "          fig, ax = plt.subplots()\n",
        "          df[\"date\"] = pd.to_datetime(df[\"date\"])\n",
        "          df[\"date\"] = df[\"date\"].apply(mpl.dates.date2num)\n",
        "          df = df.astype(float) \n",
        "          ax.set_xlabel(\"Date\")\n",
        "          ax.set_ylabel(\"Price\")\n",
        "          format = mpl.dates.DateFormatter('%Y-%m-%d')\n",
        "          ax.xaxis.set_major_formatter(format)\n",
        "          fig.autofmt_xdate()\n",
        "          mpl_finance.candlestick_ohlc(ax,df.values,width=0.1,colorup = 'green',\n",
        "                                       colordown = \"red\")\n",
        "          ax.xaxis.set_major_locator(mpl.dates.DayLocator(interval=15))\n",
        "          #You can set the interval to 1 if you want to visualise every date\n",
        "          #But on Collab it isn't preferable due to smaller size\n",
        "          fig.tight_layout()\n",
        "          plt.show()\n",
        "\n",
        "    "
      ]
    },
    {
      "cell_type": "markdown",
      "metadata": {
        "lang": "en",
        "id": "eXy1-jrPcApQ"
      },
      "source": [
        "Let's see what happened:"
      ]
    },
    {
      "cell_type": "code",
      "execution_count": 27,
      "metadata": {
        "id": "VIF6IvysL070",
        "colab": {
          "base_uri": "https://localhost:8080/",
          "height": 822
        },
        "outputId": "418a0369-8b9c-4711-9abd-5e5dafde338e"
      },
      "outputs": [
        {
          "output_type": "stream",
          "name": "stdout",
          "text": [
            "           date    open    high        low       close\n",
            "0    2017-06-08   48.96  253.27  33.710000   48.560000\n",
            "1    2017-06-09   49.18  259.75  47.150000   58.610000\n",
            "2    2017-06-10   58.58   84.49   3.160000    3.160000\n",
            "3    2017-06-11    3.35  112.39   0.000337    0.000338\n",
            "4    2017-06-12   34.22  329.42  11.910000   23.300000\n",
            "..          ...     ...     ...        ...         ...\n",
            "359  2018-06-02   90.20  106.06  90.200000  102.800000\n",
            "360  2018-06-03  101.19  108.96  91.530000   92.300000\n",
            "361  2018-06-04   91.31   97.52  80.070000   83.120000\n",
            "362  2018-06-05   84.20   89.05  79.130000   87.970000\n",
            "363  2018-06-06   88.08   94.08  85.720000   88.600000\n",
            "\n",
            "[364 rows x 5 columns]\n"
          ]
        },
        {
          "output_type": "display_data",
          "data": {
            "text/plain": [
              "<Figure size 5000x2000 with 1 Axes>"
            ],
            "image/png": "[encoded data removed]"
          },
          "metadata": {
            "needs_background": "light"
          }
        }
      ],
      "source": [
        "plot_fancy_price_action(coins=coins, symbol='VERI', start_date='2013-06-01', end_date='2019-06-30') "
      ]
    },
    {
      "cell_type": "markdown",
      "metadata": {
        "lang": "en",
        "id": "hCAMWnGacApR"
      },
      "source": [
        "There is no data science in this task. It's just that an analyst should be able to build charts, or know ready-made tools."
      ]
    },
    {
      "cell_type": "markdown",
      "metadata": {
        "lang": "en",
        "id": "LA5PYXPscApR"
      },
      "source": [
        "## 3. Pump and dump (1 point)"
      ]
    },
    {
      "cell_type": "markdown",
      "metadata": {
        "lang": "en",
        "id": "2gZ4q-F1cApR"
      },
      "source": [
        "Cryptocurrency exchanges still remain a marginal place, a kind of wild west of the financial world. As a consequence, schemes thrive here regarding\n",
        "honest withdrawal of money. One of them is **pump'n'dump** (pump and dump).\n",
        "\n",
        "She looks like this. Several large players or many small ones agree to buy together an obscure coin with a low price and trading volume. This leads to an instant rise in price (pump), then inexperienced players come in the hope of making money on such growth. At this point, the organizers of the scheme will start selling everything (dump). The whole process takes from several minutes to several hours."
      ]
    },
    {
      "cell_type": "markdown",
      "metadata": {
        "lang": "en",
        "id": "WSvjocspcApR"
      },
      "source": [
        "Your task is to **find the strongest pump'n'dump** of the coin in the given time period. To do this, for each day, we define the number `pnd` equal to the ratio of the maximum price of the coin on the given day to the maximum of the opening and closing prices on the same day. We need to find the day when `pnd` was maximum and the value of `pnd`."
      ]
    },
    {
      "cell_type": "code",
      "execution_count": 126,
      "metadata": {
        "id": "rzA20Gm6L072"
      },
      "outputs": [],
      "source": [
        "def find_most_severe_pump_and_dump(coins, symbol, start_date, end_date):\n",
        "        df = (coins.loc[(coins[\"symbol\"] == symbol) &  ( (coins.index >= start_date) &\n",
        "        (coins.index <= end_date) ),[\"high\",\"open\",\"close\"]] )\n",
        "        df[\"pnd\"] = df.apply(lambda row: row.high/max(row.open,row.close),axis=1)\n",
        "        print(df[df[\"pnd\"] == df[\"pnd\"].max()][\"pnd\"])"
      ]
    },
    {
      "cell_type": "code",
      "execution_count": 127,
      "metadata": {
        "id": "VZjM8FJ-L073",
        "colab": {
          "base_uri": "https://localhost:8080/"
        },
        "outputId": "42fbd66e-71ef-4f4c-d4ba-3736831cbb0e"
      },
      "outputs": [
        {
          "output_type": "stream",
          "name": "stdout",
          "text": [
            "date\n",
            "2017-11-29    1.142894\n",
            "Name: pnd, dtype: float64\n"
          ]
        }
      ],
      "source": [
        "find_most_severe_pump_and_dump(coins, symbol='BTC', start_date='2017-06-01', end_date='2018-06-01')"
      ]
    },
    {
      "cell_type": "markdown",
      "metadata": {
        "lang": "en",
        "id": "POXfLGaecApS"
      },
      "source": [
        "Compare these values ​​for different coins:"
      ]
    },
    {
      "cell_type": "code",
      "execution_count": 123,
      "metadata": {
        "id": "EXJgxg7HL074"
      },
      "outputs": [],
      "source": []
    },
    {
      "cell_type": "markdown",
      "metadata": {
        "lang": "en",
        "id": "WGUXWC-zcApS"
      },
      "source": [
        "## 4. ROI (1 point)"
      ]
    },
    {
      "cell_type": "markdown",
      "metadata": {
        "lang": "en",
        "id": "YTDg_5nscApT"
      },
      "source": [
        "You need to calculate **return on investment (ROI)** in cryptocurrencies over a given period of time.\n",
        "\n",
        "Payback is defined as the ratio of *portfolio price change* to *portfolio initial price*. The portfolio price is the total value (in USD) of all coins in the portfolio.\n",
        "\n",
        "`investments` is a dictionary where the keys are the names of the coins, the values ​​are the amount of investments in this coin (in USD)."
      ]
    },
    {
      "cell_type": "code",
      "execution_count": 33,
      "metadata": {
        "id": "RwDtgKjhL076"
      },
      "outputs": [],
      "source": [
        "\n",
        "def compute_roi(coins, investments, start_date, end_date):\n",
        "    coin_name = investments.keys()\n",
        "    for x in coin_name:\n",
        "      df = (coins.loc[(coins[\"symbol\"] == x) &  ( (coins.index == start_date) | \n",
        "        (coins.index == end_date) ),[\"price\"]] )\n",
        "      print(df)\n",
        "      initial_value = df._get_value(start_date,\"price\")\n",
        "      final_value = df._get_value(end_date,\"price\")\n",
        "      print( (final_value - initial_value)/investments[x] , \"is the ROI for\",\n",
        "            x)"
      ]
    },
    {
      "cell_type": "code",
      "execution_count": 34,
      "metadata": {
        "id": "oWW8XBrIL076",
        "colab": {
          "base_uri": "https://localhost:8080/"
        },
        "outputId": "3b120d19-efe9-4237-9a1a-ff9c75f9559f"
      },
      "outputs": [
        {
          "output_type": "stream",
          "name": "stdout",
          "text": [
            "              price\n",
            "date               \n",
            "2018-04-04  7456.41\n",
            "2018-06-01  7500.70\n",
            "0.04428999999999996 is the ROI for BTC\n",
            "             price\n",
            "date              \n",
            "2018-04-04  133.91\n",
            "2018-06-01  118.03\n",
            "-0.03175999999999999 is the ROI for LTC\n"
          ]
        }
      ],
      "source": [
        "compute_roi(coins, investments={'BTC': 1000, 'LTC': 500}, start_date='2018-04-04', end_date='2018-06-01')"
      ]
    },
    {
      "cell_type": "code",
      "execution_count": 103,
      "metadata": {
        "id": "UQDAuP_QL077",
        "colab": {
          "base_uri": "https://localhost:8080/"
        },
        "outputId": "1dbf1dbb-f566-4205-92b1-e9597788f2dc"
      },
      "outputs": [
        {
          "output_type": "stream",
          "name": "stdout",
          "text": [
            "              price\n",
            "date               \n",
            "2013-05-28   129.77\n",
            "2018-06-06  7625.97\n",
            "7.4962 is the ROI for BTC\n",
            "             price\n",
            "date              \n",
            "2013-05-28    3.10\n",
            "2018-06-06  121.89\n",
            "0.23758 is the ROI for LTC\n"
          ]
        }
      ],
      "source": [
        "compute_roi(coins, investments={'BTC': 1000, 'LTC': 500}, start_date='2013-05-28', end_date='2018-06-06')"
      ]
    },
    {
      "cell_type": "markdown",
      "metadata": {
        "lang": "en",
        "id": "0-DGCFBVcApU"
      },
      "source": [
        "## 5. Technical analysis (1 point)"
      ]
    },
    {
      "cell_type": "markdown",
      "metadata": {
        "lang": "en",
        "id": "obfSToNucApU"
      },
      "source": [
        "**Technical analysis** is a way to predict the behavior of a chart based on some auxiliary values ​​built on the original chart. One of the simplest methods of technical analysis is **[Bollinger Bands](https://en.wikipedia.org/wiki/Bollinger_Bands)**. Someone believes that the graph touching the border should be reflected from it.\n",
        "\n",
        "Borders are considered very simply:\n",
        "\n",
        "$$(MA \\pm K\\sigma),$$\n",
        "\n",
        "where `MA` is the `N` day moving average and $\\sigma$ is the `N` day moving standard deviation."
      ]
    },
    {
      "cell_type": "markdown",
      "metadata": {
        "lang": "en",
        "id": "sVzLA96BcApU"
      },
      "source": [
        "Draw **price chart**, **moving average** and **Bollinger bands** with parameters `N (window) = 21`, `K (width) = 2`.\n",
        "\n",
        "The `rolling` function will help you here to calculate the mean and standard deviation over a sliding window.\n",
        "\n",
        "Don't forget to label the graph and axes, draw the legend and choose the best location for it."
      ]
    },
    {
      "cell_type": "code",
      "execution_count": null,
      "metadata": {
        "id": "zf4zMAGkL079"
      },
      "outputs": [],
      "source": [
        "def plot_bollinger_bands(coins, symbol, window, width):\n",
        "    # Paste your code here"
      ]
    },
    {
      "cell_type": "code",
      "execution_count": null,
      "metadata": {
        "id": "dWBsySLJL07-"
      },
      "outputs": [],
      "source": [
        "plot_bollinger_bands(coins=coins, symbol='EOS', window=21, width=2)  # тут должен появиться график"
      ]
    },
    {
      "cell_type": "markdown",
      "metadata": {
        "lang": "en",
        "id": "nRkPCBQUcApV"
      },
      "source": [
        "**Conclude whether the Bollinger Rule was followed:**"
      ]
    },
    {
      "cell_type": "markdown",
      "metadata": {
        "lang": "en",
        "id": "XxVelp_fcApV"
      },
      "source": [
        "**Your answer is here**"
      ]
    },
    {
      "cell_type": "markdown",
      "metadata": {
        "lang": "en",
        "id": "JnuCVLqzcApV"
      },
      "source": [
        "## 6. Capitalization as an indicator (1 point)"
      ]
    },
    {
      "cell_type": "markdown",
      "metadata": {
        "lang": "en",
        "id": "NfnaLPnYcApW"
      },
      "source": [
        "Many people who trade cryptocurrencies like to look at [capitalization](https://academy.binance.com/en/articles/crypto-market-capitalization-explained). Let's understand why."
      ]
    },
    {
      "cell_type": "markdown",
      "metadata": {
        "lang": "en",
        "id": "C0_0gKRrcApW"
      },
      "source": [
        "**Draw two more graphs:**\n",
        "1. total capitalization of bitcoin (BTC), ether (ETH), eos (EOS), bitcoin cash (BCH), stellar (XLM) and litecoin (LTC)\n",
        "2. shares of capitalizations of these coins from the total market capitalization.\n",
        "\n",
        "In this case, use the data starting from 2017-07-01."
      ]
    },
    {
      "cell_type": "code",
      "execution_count": null,
      "metadata": {
        "id": "xHMMSJg6L08B",
        "scrolled": false
      },
      "outputs": [],
      "source": [
        "def plot_coins_capitalizations(coins, symbols, start_date):\n",
        "    # Paste your code here"
      ]
    },
    {
      "cell_type": "code",
      "execution_count": null,
      "metadata": {
        "id": "jOD_z5hYL08C"
      },
      "outputs": [],
      "source": [
        "plot_coins_capitalizations(\n",
        "    coins=coins,\n",
        "    symbols=('BTC', 'ETH', 'EOS', 'BCH', 'XLM', 'LTC'),\n",
        "    start_date='2017-07-01'\n",
        ")"
      ]
    },
    {
      "cell_type": "markdown",
      "metadata": {
        "lang": "en",
        "id": "4wPk7AgOcApX"
      },
      "source": [
        "Analyze the dependence of the share of capitalization of altcoins (other coins, except for bitcoin) on the share of capitalization of bitcoin. What do you think is the reason for this dependence?"
      ]
    },
    {
      "cell_type": "markdown",
      "metadata": {
        "lang": "en",
        "id": "NFWzlFdmcApX"
      },
      "source": [
        "**Your answer is here**"
      ]
    },
    {
      "cell_type": "markdown",
      "metadata": {
        "lang": "en",
        "id": "ktVQ9UTycApX"
      },
      "source": [
        "## 7. Coin correlations (1 point)"
      ]
    },
    {
      "cell_type": "markdown",
      "metadata": {
        "lang": "en",
        "id": "oMjAk10IcApY"
      },
      "source": [
        "Now we need to take a closer look at the correlations of the average shares of coin capitalizations. In this case, we will look at the average smoothed over the last `window` days until the day `date` with a smoothing coefficient `alpha` for the set of coins `symbols`.\n",
        "\n",
        "Implement a function that will return a square `DataFrame` with the number of rows and columns equal to the number of coins in question and with correlation values:"
      ]
    },
    {
      "cell_type": "code",
      "execution_count": null,
      "metadata": {
        "id": "lxZQQuBxL08E"
      },
      "outputs": [],
      "source": [
        "def calc_coins_correlations(coins, date, symbols, window, alpha):\n",
        "    # Paste your code here"
      ]
    },
    {
      "cell_type": "code",
      "execution_count": null,
      "metadata": {
        "id": "L8iBTKhuL08F"
      },
      "outputs": [],
      "source": [
        "correlations = calc_coins_correlations(coins, date=\"2018-06-06\",\n",
        "                                       symbols=['BTC', 'ETH', 'EOS', 'BCH', 'XLM', 'LTC', 'ADA'],\n",
        "                                       window=21, alpha=0.1)\n",
        "# Теперь посмотрим на эти корреляции следующим образом:\n",
        "correlations.style.background_gradient(cmap='coolwarm').set_precision(2)"
      ]
    },
    {
      "cell_type": "markdown",
      "metadata": {
        "lang": "en",
        "id": "1xFUc97HcApY"
      },
      "source": [
        "It is quite interesting to take another look at 2017-12-27:"
      ]
    },
    {
      "cell_type": "code",
      "execution_count": null,
      "metadata": {
        "id": "IJrYVdA0L08G"
      },
      "outputs": [],
      "source": [
        "correlations = calc_coins_correlations(coins, date=\"2017-12-27\",\n",
        "                                       symbols=['BTC', 'ETH', 'EOS', 'BCH', 'XLM', 'LTC', 'ADA'],\n",
        "                                       window=21, alpha=0.1)\n",
        "# Теперь посмотрим на эти корреляции следующим образом:\n",
        "correlations.style.background_gradient(cmap='coolwarm').set_precision(2)"
      ]
    },
    {
      "cell_type": "markdown",
      "metadata": {
        "lang": "en",
        "id": "cyfdoBYScApZ"
      },
      "source": [
        "## 8. Analysis of one strategy (2 points)"
      ]
    },
    {
      "cell_type": "markdown",
      "metadata": {
        "lang": "en",
        "id": "FjsPLSKacApZ"
      },
      "source": [
        "Let's take a dreamy example. Let's see how much profit a textbook trading strategy based on moving averages could bring us.\n",
        "\n",
        "The strategy looks like this: we build two moving averages for the price chart. With a small window (leading moving average) and with a large window (lagging moving average). **We buy when the leading average becomes larger than the lagging one and sell otherwise.**\n",
        "\n",
        "Let's look at an example:"
      ]
    },
    {
      "cell_type": "code",
      "execution_count": null,
      "metadata": {
        "id": "gEPEQGSTL08H"
      },
      "outputs": [],
      "source": [
        "def plot_moving_averages(coins, symbol, leading_window, lagging_window, start_date, end_date):\n",
        "    coin = coins[coins['symbol'] == symbol][start_date:end_date]\n",
        "    price = coin['price']\n",
        "    leading_mean = price.rolling(window=leading_window).mean()\n",
        "    lagging_mean = price.rolling(window=lagging_window).mean()\n",
        "\n",
        "    fig = plt.figure(figsize=(16, 9))\n",
        "    ax = fig.add_subplot(111)\n",
        "    \n",
        "    ax.set_title('Price action for {}'.format(symbol))\n",
        "    ax.plot(leading_mean, color='green', label='MA{}'.format(leading_window))\n",
        "    ax.plot(lagging_mean, color='red', label='MA{}'.format(lagging_window))\n",
        "    ax.plot(price, color='blue', label='price')\n",
        "    ax.set_xlabel('Date')\n",
        "    ax.set_ylabel('Price')\n",
        "    ax.legend(loc='best')\n",
        "    ax.grid(True)\n",
        "    plt.show() \n",
        "\n",
        "plot_moving_averages(\n",
        "    coins=coins, \n",
        "    symbol='BTC', \n",
        "    leading_window=21, \n",
        "    lagging_window=50, \n",
        "    start_date='2017-05-01',\n",
        "    end_date='2018-08-01')"
      ]
    },
    {
      "cell_type": "markdown",
      "metadata": {
        "lang": "en",
        "id": "iGJvNGEKcApa"
      },
      "source": [
        "It can be seen that the moving average with a larger window reacts more slowly to price changes. It is on this idea that the trading strategy is based.\n",
        "\n",
        "\n",
        "**Implement a function** that draws two graphs. The right side will display the price and moving averages. On the left - how many times the size of investments will change when using our strategy and with ordinary investment (we bought and hold, we look at how the price of our purchased currencies grows)."
      ]
    },
    {
      "cell_type": "markdown",
      "metadata": {
        "lang": "en",
        "id": "KuH9NKXTcApa"
      },
      "source": [
        ">**Notes:**\n",
        ">- Let's use only closing prices. In this case, to find out the prices for yesterday, you should use the `shift (1)` method for `Series`.\n",
        ">- The ratio of closing prices for today and yesterday is **multiplier** for today. At the same time, let's build accumulation graphs for multipliers. Those. if we look at 3 days and on the first day multiplier = 1.5, on the second - 0.5 and on the third - 2, then the graph will look like this: (1.5, 1.5 *0.5, 1.5* 0.5 * 2).\n",
        ">- When using our new strategy, we will either buy if the leading average becomes larger than the lagging one by some `threshold` (in this case, it is better to divide the difference by the price first), or leave everything as it is. At the same time, of course, when making decisions for today, you need to look only at statistics from the past."
      ]
    },
    {
      "cell_type": "code",
      "execution_count": null,
      "metadata": {
        "id": "gp86AGWyL08I",
        "scrolled": false
      },
      "outputs": [],
      "source": [
        "def plot_moving_averages_strategy(\n",
        "    coins, symbol, lead_window, lag_window, threshold, start_date, end_date\n",
        "):\n",
        "    # Paste your code here"
      ]
    },
    {
      "cell_type": "code",
      "execution_count": null,
      "metadata": {
        "id": "m2CDc_kkL08J"
      },
      "outputs": [],
      "source": [
        "# Теперь на основе реализованной функции сделаем интерактивные графики и поизучаем, что получилось:\n",
        "symbol_selector = ipywidgets.Dropdown(\n",
        "    options=('BTC', 'ETH', 'EOS', 'BCH', 'XLM', 'LTC', 'ADA'),\n",
        "    index=0,\n",
        "    value='BTC',\n",
        "    layout={'width': '700px'},\n",
        "    continuous_update=False\n",
        ")\n",
        "\n",
        "lead_window_slider = ipywidgets.IntSlider(\n",
        "    value=21, \n",
        "    min=1, \n",
        "    max=200, \n",
        "    step=1,\n",
        "    layout={'width': '700px'},\n",
        "    continuous_update=False)\n",
        "\n",
        "lag_window_slider = ipywidgets.IntSlider(\n",
        "    value=50,\n",
        "    min=1, \n",
        "    max=200, \n",
        "    layout={'width': '700px'},\n",
        "    step=1, continuous_update=False)\n",
        "\n",
        "threshold_slider = ipywidgets.FloatSlider(\n",
        "    min=0, \n",
        "    max=0.20, \n",
        "    step=0.001, \n",
        "    value=0.025,\n",
        "    layout={'width': '700px'},\n",
        "    continuous_update=False)\n",
        "\n",
        "start_date_slider = ipywidgets.SelectionSlider(\n",
        "    options=pd.date_range('2013-04-28', '2018-06-06', freq='D'),\n",
        "    index=0,\n",
        "    value=pd.Timestamp('2017-05-01'),\n",
        "    layout={'width': '700px'},\n",
        "    continuous_update=False\n",
        ")\n",
        "\n",
        "end_date_slider = ipywidgets.SelectionSlider(\n",
        "    options=pd.date_range('2013-04-28', '2018-06-06', freq='D'),\n",
        "    index=0,\n",
        "    value=pd.Timestamp('2018-01-01'),\n",
        "    layout={'width': '700px'},\n",
        "    continuous_update=False\n",
        ")\n",
        "\n",
        "ipywidgets.interact(\n",
        "    plot_moving_averages_strategy,\n",
        "    coins=ipywidgets.fixed(coins),\n",
        "    symbol=symbol_selector,\n",
        "    lead_window=lead_window_slider,\n",
        "    lag_window=lag_window_slider,\n",
        "    threshold=threshold_slider,\n",
        "    start_date=start_date_slider,\n",
        "    end_date=end_date_slider\n",
        ")"
      ]
    },
    {
      "cell_type": "markdown",
      "metadata": {
        "lang": "en",
        "id": "F2dXeleDcApb"
      },
      "source": [
        "Try different parameter values ​​for different coins and draw conclusions about the applicability of such a model:"
      ]
    },
    {
      "cell_type": "markdown",
      "metadata": {
        "lang": "en",
        "id": "lH2FHtuKcApb"
      },
      "source": [
        "** *italicized text*Your answer is here**"
      ]
    },
    {
      "cell_type": "markdown",
      "metadata": {
        "lang": "en",
        "id": "zNcBOaXQcApb"
      },
      "source": [
        "## 9. Disclaimer"
      ]
    },
    {
      "cell_type": "markdown",
      "metadata": {
        "lang": "en",
        "id": "kFKTeGrFcApb"
      },
      "source": [
        "All examples of the strategies analyzed here are toys and are not suitable for real trading on the stock exchange. Without serious preparation, you will be eaten there with giblets."
      ]
    }
  ],
  "metadata": {
    "colab": {
      "provenance": [],
      "collapsed_sections": [
        "0-DGCFBVcApU",
        "ktVQ9UTycApX"
      ]
    },
    "kernelspec": {
      "display_name": "Python 3",
      "language": "python",
      "name": "python3"
    },
    "language_info": {
      "codemirror_mode": {
        "name": "ipython",
        "version": 3
      },
      "file_extension": ".py",
      "mimetype": "text/x-python",
      "name": "python",
      "nbconvert_exporter": "python",
      "pygments_lexer": "ipython3",
      "version": "3.8.10"
    },
    "nbTranslate": {
      "displayLangs": [],
      "hotkey": "alt-t",
      "langInMainMenu": true,
      "sourceLang": "ru",
      "targetLang": "en",
      "useGoogleTranslate": true
    }
  },
  "nbformat": 4,
  "nbformat_minor": 0
}